{
  "cells": [
    {
      "cell_type": "markdown",
      "metadata": {
        "id": "view-in-github",
        "colab_type": "text"
      },
      "source": [
        "<a href=\"https://colab.research.google.com/github/assiri/AI-chat-bot/blob/main/Tensorflow_in_10.ipynb\" target=\"_parent\"><img src=\"https://colab.research.google.com/assets/colab-badge.svg\" alt=\"Open In Colab\"/></a>"
      ]
    },
    {
      "cell_type": "markdown",
      "metadata": {
        "id": "tdTm1HaTzqIQ"
      },
      "source": [
        "# 0. Import Data"
      ]
    },
    {
      "cell_type": "code",
      "execution_count": 24,
      "metadata": {
        "id": "gT8iM_gRzqIT"
      },
      "outputs": [],
      "source": [
        "import pandas as pd\n",
        "from sklearn.model_selection import train_test_split"
      ]
    },
    {
      "cell_type": "code",
      "execution_count": 25,
      "metadata": {
        "colab": {
          "base_uri": "https://localhost:8080/"
        },
        "id": "jzyj9qm1zqIV",
        "outputId": "e9e85911-88ca-476f-c256-531c06936e36"
      },
      "outputs": [
        {
          "output_type": "stream",
          "name": "stdout",
          "text": [
            "Drive already mounted at /content/drive; to attempt to forcibly remount, call drive.mount(\"/content/drive\", force_remount=True).\n",
            "MyDrive\n"
          ]
        }
      ],
      "source": [
        "from google.colab import drive\n",
        "drive.mount('/content/drive')\n",
        "!ls \"/content/drive\"\n",
        "df = pd.read_csv('/content/sample_data/Churn.csv')"
      ]
    },
    {
      "cell_type": "code",
      "execution_count": 26,
      "metadata": {
        "id": "GuyWKcphzqIV"
      },
      "outputs": [],
      "source": [
        "X = pd.get_dummies(df.drop(['Churn', 'Customer ID'], axis=1))\n",
        "y = df['Churn'].apply(lambda x: 1 if x=='Yes' else 0)"
      ]
    },
    {
      "cell_type": "code",
      "execution_count": 27,
      "metadata": {
        "id": "rPZ0s-66zqIV"
      },
      "outputs": [],
      "source": [
        "X_train, X_test, y_train, y_test = train_test_split(X, y, test_size=.2)"
      ]
    },
    {
      "cell_type": "code",
      "execution_count": 28,
      "metadata": {
        "colab": {
          "base_uri": "https://localhost:8080/"
        },
        "id": "7-mRS0vMzqIW",
        "outputId": "1cefc379-e98d-43ea-ea03-9cbec2871618"
      },
      "outputs": [
        {
          "output_type": "execute_result",
          "data": {
            "text/plain": [
              "4234    0\n",
              "764     0\n",
              "661     1\n",
              "5802    0\n",
              "6675    0\n",
              "Name: Churn, dtype: int64"
            ]
          },
          "metadata": {},
          "execution_count": 28
        }
      ],
      "source": [
        "y_train.head()"
      ]
    },
    {
      "cell_type": "markdown",
      "metadata": {
        "id": "4qMrkyryzqIX"
      },
      "source": [
        "# 1. Import Dependencies"
      ]
    },
    {
      "cell_type": "code",
      "execution_count": 29,
      "metadata": {
        "id": "Z9KJicMozqIX"
      },
      "outputs": [],
      "source": [
        "from tensorflow.keras.models import Sequential, load_model\n",
        "from tensorflow.keras.layers import Dense\n",
        "from sklearn.metrics import accuracy_score"
      ]
    },
    {
      "cell_type": "markdown",
      "metadata": {
        "id": "NsPASVMAzqIY"
      },
      "source": [
        "# 2. Build and Compile Model"
      ]
    },
    {
      "cell_type": "code",
      "execution_count": 30,
      "metadata": {
        "id": "z2TR5IRWzqIY"
      },
      "outputs": [],
      "source": [
        "model = Sequential()\n",
        "model.add(Dense(units=32, activation='relu', input_dim=len(X_train.columns)))\n",
        "model.add(Dense(units=64, activation='relu'))\n",
        "model.add(Dense(units=1, activation='sigmoid'))"
      ]
    },
    {
      "cell_type": "code",
      "execution_count": 31,
      "metadata": {
        "id": "zM1lH7sOzqIZ"
      },
      "outputs": [],
      "source": [
        "model.compile(loss='binary_crossentropy', optimizer='sgd', metrics='accuracy')"
      ]
    },
    {
      "cell_type": "markdown",
      "metadata": {
        "id": "W1W4oK_szqIZ"
      },
      "source": [
        "# 3. Fit, Predict and Evaluate"
      ]
    },
    {
      "cell_type": "code",
      "execution_count": 32,
      "metadata": {
        "collapsed": true,
        "colab": {
          "base_uri": "https://localhost:8080/"
        },
        "id": "rym0zMmAzqIZ",
        "outputId": "9c5bd57a-8a37-4cd4-a5c8-ace2e1b6af68"
      },
      "outputs": [
        {
          "output_type": "stream",
          "name": "stdout",
          "text": [
            "Epoch 1/200\n",
            "177/177 [==============================] - 3s 10ms/step - loss: 0.5066 - accuracy: 0.7572\n",
            "Epoch 2/200\n",
            "177/177 [==============================] - 1s 7ms/step - loss: 0.4887 - accuracy: 0.7684\n",
            "Epoch 3/200\n",
            "177/177 [==============================] - 1s 6ms/step - loss: 0.4997 - accuracy: 0.7581\n",
            "Epoch 4/200\n",
            "177/177 [==============================] - 1s 6ms/step - loss: 0.4807 - accuracy: 0.7755\n",
            "Epoch 5/200\n",
            "177/177 [==============================] - 1s 6ms/step - loss: 0.4776 - accuracy: 0.7787\n",
            "Epoch 6/200\n",
            "177/177 [==============================] - 1s 6ms/step - loss: 0.4720 - accuracy: 0.7791\n",
            "Epoch 7/200\n",
            "177/177 [==============================] - 1s 6ms/step - loss: 0.4723 - accuracy: 0.7757\n",
            "Epoch 8/200\n",
            "177/177 [==============================] - 1s 6ms/step - loss: 0.4707 - accuracy: 0.7775\n",
            "Epoch 9/200\n",
            "177/177 [==============================] - 1s 6ms/step - loss: 0.4687 - accuracy: 0.7787\n",
            "Epoch 10/200\n",
            "177/177 [==============================] - 1s 6ms/step - loss: 0.4661 - accuracy: 0.7799\n",
            "Epoch 11/200\n",
            "177/177 [==============================] - 1s 6ms/step - loss: 0.4654 - accuracy: 0.7810\n",
            "Epoch 12/200\n",
            "177/177 [==============================] - 1s 6ms/step - loss: 0.4632 - accuracy: 0.7815\n",
            "Epoch 13/200\n",
            "177/177 [==============================] - 1s 6ms/step - loss: 0.4607 - accuracy: 0.7847\n",
            "Epoch 14/200\n",
            "177/177 [==============================] - 1s 6ms/step - loss: 0.4638 - accuracy: 0.7803\n",
            "Epoch 15/200\n",
            "177/177 [==============================] - 1s 6ms/step - loss: 0.4588 - accuracy: 0.7851\n",
            "Epoch 16/200\n",
            "177/177 [==============================] - 1s 6ms/step - loss: 0.4618 - accuracy: 0.7840\n",
            "Epoch 17/200\n",
            "177/177 [==============================] - 1s 6ms/step - loss: 0.4581 - accuracy: 0.7844\n",
            "Epoch 18/200\n",
            "177/177 [==============================] - 1s 6ms/step - loss: 0.4590 - accuracy: 0.7847\n",
            "Epoch 19/200\n",
            "177/177 [==============================] - 1s 6ms/step - loss: 0.4559 - accuracy: 0.7828\n",
            "Epoch 20/200\n",
            "177/177 [==============================] - 1s 6ms/step - loss: 0.4564 - accuracy: 0.7839\n",
            "Epoch 21/200\n",
            "177/177 [==============================] - 1s 6ms/step - loss: 0.4580 - accuracy: 0.7817\n",
            "Epoch 22/200\n",
            "177/177 [==============================] - 1s 6ms/step - loss: 0.4555 - accuracy: 0.7840\n",
            "Epoch 23/200\n",
            "177/177 [==============================] - 1s 6ms/step - loss: 0.4522 - accuracy: 0.7840\n",
            "Epoch 24/200\n",
            "177/177 [==============================] - 1s 6ms/step - loss: 0.4569 - accuracy: 0.7842\n",
            "Epoch 25/200\n",
            "177/177 [==============================] - 1s 6ms/step - loss: 0.4566 - accuracy: 0.7847\n",
            "Epoch 26/200\n",
            "177/177 [==============================] - 1s 6ms/step - loss: 0.4536 - accuracy: 0.7815\n",
            "Epoch 27/200\n",
            "177/177 [==============================] - 1s 6ms/step - loss: 0.4510 - accuracy: 0.7846\n",
            "Epoch 28/200\n",
            "177/177 [==============================] - 1s 6ms/step - loss: 0.4517 - accuracy: 0.7878\n",
            "Epoch 29/200\n",
            "177/177 [==============================] - 1s 6ms/step - loss: 0.4491 - accuracy: 0.7828\n",
            "Epoch 30/200\n",
            "177/177 [==============================] - 1s 6ms/step - loss: 0.4526 - accuracy: 0.7885\n",
            "Epoch 31/200\n",
            "177/177 [==============================] - 1s 6ms/step - loss: 0.4509 - accuracy: 0.7881\n",
            "Epoch 32/200\n",
            "177/177 [==============================] - 1s 6ms/step - loss: 0.4511 - accuracy: 0.7796\n",
            "Epoch 33/200\n",
            "177/177 [==============================] - 1s 5ms/step - loss: 0.4493 - accuracy: 0.7858\n",
            "Epoch 34/200\n",
            "177/177 [==============================] - 1s 5ms/step - loss: 0.4504 - accuracy: 0.7862\n",
            "Epoch 35/200\n",
            "177/177 [==============================] - 1s 6ms/step - loss: 0.4507 - accuracy: 0.7839\n",
            "Epoch 36/200\n",
            "177/177 [==============================] - 1s 6ms/step - loss: 0.4487 - accuracy: 0.7842\n",
            "Epoch 37/200\n",
            "177/177 [==============================] - 1s 6ms/step - loss: 0.4470 - accuracy: 0.7878\n",
            "Epoch 38/200\n",
            "177/177 [==============================] - 1s 6ms/step - loss: 0.4482 - accuracy: 0.7856\n",
            "Epoch 39/200\n",
            "177/177 [==============================] - 1s 6ms/step - loss: 0.4499 - accuracy: 0.7892\n",
            "Epoch 40/200\n",
            "177/177 [==============================] - 1s 6ms/step - loss: 0.4487 - accuracy: 0.7878\n",
            "Epoch 41/200\n",
            "177/177 [==============================] - 1s 6ms/step - loss: 0.4488 - accuracy: 0.7846\n",
            "Epoch 42/200\n",
            "177/177 [==============================] - 1s 6ms/step - loss: 0.4446 - accuracy: 0.7869\n",
            "Epoch 43/200\n",
            "177/177 [==============================] - 1s 6ms/step - loss: 0.4449 - accuracy: 0.7879\n",
            "Epoch 44/200\n",
            "177/177 [==============================] - 2s 9ms/step - loss: 0.4457 - accuracy: 0.7874\n",
            "Epoch 45/200\n",
            "177/177 [==============================] - 2s 9ms/step - loss: 0.4455 - accuracy: 0.7876\n",
            "Epoch 46/200\n",
            "177/177 [==============================] - 2s 8ms/step - loss: 0.4450 - accuracy: 0.7904\n",
            "Epoch 47/200\n",
            "177/177 [==============================] - 1s 6ms/step - loss: 0.4448 - accuracy: 0.7879\n",
            "Epoch 48/200\n",
            "177/177 [==============================] - 1s 6ms/step - loss: 0.4466 - accuracy: 0.7902\n",
            "Epoch 49/200\n",
            "177/177 [==============================] - 1s 6ms/step - loss: 0.4452 - accuracy: 0.7924\n",
            "Epoch 50/200\n",
            "177/177 [==============================] - 1s 6ms/step - loss: 0.4452 - accuracy: 0.7876\n",
            "Epoch 51/200\n",
            "177/177 [==============================] - 1s 6ms/step - loss: 0.4415 - accuracy: 0.7886\n",
            "Epoch 52/200\n",
            "177/177 [==============================] - 1s 6ms/step - loss: 0.4457 - accuracy: 0.7886\n",
            "Epoch 53/200\n",
            "177/177 [==============================] - 1s 6ms/step - loss: 0.4382 - accuracy: 0.7940\n",
            "Epoch 54/200\n",
            "177/177 [==============================] - 1s 6ms/step - loss: 0.4444 - accuracy: 0.7878\n",
            "Epoch 55/200\n",
            "177/177 [==============================] - 1s 6ms/step - loss: 0.4429 - accuracy: 0.7908\n",
            "Epoch 56/200\n",
            "177/177 [==============================] - 1s 6ms/step - loss: 0.4431 - accuracy: 0.7849\n",
            "Epoch 57/200\n",
            "177/177 [==============================] - 1s 6ms/step - loss: 0.4399 - accuracy: 0.7925\n",
            "Epoch 58/200\n",
            "177/177 [==============================] - 1s 6ms/step - loss: 0.4392 - accuracy: 0.7917\n",
            "Epoch 59/200\n",
            "177/177 [==============================] - 1s 6ms/step - loss: 0.4421 - accuracy: 0.7897\n",
            "Epoch 60/200\n",
            "177/177 [==============================] - 1s 6ms/step - loss: 0.4431 - accuracy: 0.7883\n",
            "Epoch 61/200\n",
            "177/177 [==============================] - 1s 6ms/step - loss: 0.4400 - accuracy: 0.7918\n",
            "Epoch 62/200\n",
            "177/177 [==============================] - 1s 6ms/step - loss: 0.4396 - accuracy: 0.7954\n",
            "Epoch 63/200\n",
            "177/177 [==============================] - 1s 6ms/step - loss: 0.4390 - accuracy: 0.7925\n",
            "Epoch 64/200\n",
            "177/177 [==============================] - 1s 6ms/step - loss: 0.4404 - accuracy: 0.7876\n",
            "Epoch 65/200\n",
            "177/177 [==============================] - 1s 6ms/step - loss: 0.4382 - accuracy: 0.7902\n",
            "Epoch 66/200\n",
            "177/177 [==============================] - 1s 6ms/step - loss: 0.4369 - accuracy: 0.7915\n",
            "Epoch 67/200\n",
            "177/177 [==============================] - 1s 6ms/step - loss: 0.4366 - accuracy: 0.7915\n",
            "Epoch 68/200\n",
            "177/177 [==============================] - 1s 6ms/step - loss: 0.4371 - accuracy: 0.7934\n",
            "Epoch 69/200\n",
            "177/177 [==============================] - 1s 6ms/step - loss: 0.4380 - accuracy: 0.7902\n",
            "Epoch 70/200\n",
            "177/177 [==============================] - 1s 6ms/step - loss: 0.4351 - accuracy: 0.7933\n",
            "Epoch 71/200\n",
            "177/177 [==============================] - 1s 6ms/step - loss: 0.4393 - accuracy: 0.7936\n",
            "Epoch 72/200\n",
            "177/177 [==============================] - 1s 6ms/step - loss: 0.4354 - accuracy: 0.7874\n",
            "Epoch 73/200\n",
            "177/177 [==============================] - 1s 6ms/step - loss: 0.4367 - accuracy: 0.7915\n",
            "Epoch 74/200\n",
            "177/177 [==============================] - 1s 6ms/step - loss: 0.4393 - accuracy: 0.7904\n",
            "Epoch 75/200\n",
            "177/177 [==============================] - 1s 6ms/step - loss: 0.4360 - accuracy: 0.7913\n",
            "Epoch 76/200\n",
            "177/177 [==============================] - 1s 6ms/step - loss: 0.4421 - accuracy: 0.7876\n",
            "Epoch 77/200\n",
            "177/177 [==============================] - 1s 6ms/step - loss: 0.4352 - accuracy: 0.7895\n",
            "Epoch 78/200\n",
            "177/177 [==============================] - 1s 6ms/step - loss: 0.4364 - accuracy: 0.7908\n",
            "Epoch 79/200\n",
            "177/177 [==============================] - 1s 6ms/step - loss: 0.4328 - accuracy: 0.7918\n",
            "Epoch 80/200\n",
            "177/177 [==============================] - 1s 6ms/step - loss: 0.4368 - accuracy: 0.7959\n",
            "Epoch 81/200\n",
            "177/177 [==============================] - 1s 6ms/step - loss: 0.4340 - accuracy: 0.7924\n",
            "Epoch 82/200\n",
            "177/177 [==============================] - 1s 6ms/step - loss: 0.4343 - accuracy: 0.7924\n",
            "Epoch 83/200\n",
            "177/177 [==============================] - 1s 6ms/step - loss: 0.4374 - accuracy: 0.7941\n",
            "Epoch 84/200\n",
            "177/177 [==============================] - 1s 6ms/step - loss: 0.4335 - accuracy: 0.7945\n",
            "Epoch 85/200\n",
            "177/177 [==============================] - 1s 6ms/step - loss: 0.4358 - accuracy: 0.7920\n",
            "Epoch 86/200\n",
            "177/177 [==============================] - 1s 6ms/step - loss: 0.4394 - accuracy: 0.7906\n",
            "Epoch 87/200\n",
            "177/177 [==============================] - 1s 6ms/step - loss: 0.4341 - accuracy: 0.7943\n",
            "Epoch 88/200\n",
            "177/177 [==============================] - 1s 6ms/step - loss: 0.4353 - accuracy: 0.7950\n",
            "Epoch 89/200\n",
            "177/177 [==============================] - 1s 6ms/step - loss: 0.4367 - accuracy: 0.7911\n",
            "Epoch 90/200\n",
            "177/177 [==============================] - 1s 6ms/step - loss: 0.4360 - accuracy: 0.7957\n",
            "Epoch 91/200\n",
            "177/177 [==============================] - 1s 6ms/step - loss: 0.4336 - accuracy: 0.7941\n",
            "Epoch 92/200\n",
            "177/177 [==============================] - 1s 6ms/step - loss: 0.4331 - accuracy: 0.7941\n",
            "Epoch 93/200\n",
            "177/177 [==============================] - 1s 6ms/step - loss: 0.4364 - accuracy: 0.7913\n",
            "Epoch 94/200\n",
            "177/177 [==============================] - 1s 8ms/step - loss: 0.4353 - accuracy: 0.7943\n",
            "Epoch 95/200\n",
            "177/177 [==============================] - 1s 8ms/step - loss: 0.4297 - accuracy: 0.7954\n",
            "Epoch 96/200\n",
            "177/177 [==============================] - 1s 7ms/step - loss: 0.4300 - accuracy: 0.7952\n",
            "Epoch 97/200\n",
            "177/177 [==============================] - 1s 6ms/step - loss: 0.4315 - accuracy: 0.7993\n",
            "Epoch 98/200\n",
            "177/177 [==============================] - 1s 6ms/step - loss: 0.4313 - accuracy: 0.7957\n",
            "Epoch 99/200\n",
            "177/177 [==============================] - 1s 6ms/step - loss: 0.4342 - accuracy: 0.7949\n",
            "Epoch 100/200\n",
            "177/177 [==============================] - 1s 6ms/step - loss: 0.4306 - accuracy: 0.7952\n",
            "Epoch 101/200\n",
            "177/177 [==============================] - 1s 6ms/step - loss: 0.4314 - accuracy: 0.7980\n",
            "Epoch 102/200\n",
            "177/177 [==============================] - 1s 6ms/step - loss: 0.4369 - accuracy: 0.7918\n",
            "Epoch 103/200\n",
            "177/177 [==============================] - 1s 6ms/step - loss: 0.4321 - accuracy: 0.7940\n",
            "Epoch 104/200\n",
            "177/177 [==============================] - 1s 6ms/step - loss: 0.4330 - accuracy: 0.7933\n",
            "Epoch 105/200\n",
            "177/177 [==============================] - 1s 6ms/step - loss: 0.4318 - accuracy: 0.7927\n",
            "Epoch 106/200\n",
            "177/177 [==============================] - 1s 6ms/step - loss: 0.4276 - accuracy: 0.7986\n",
            "Epoch 107/200\n",
            "177/177 [==============================] - 1s 6ms/step - loss: 0.4306 - accuracy: 0.7965\n",
            "Epoch 108/200\n",
            "177/177 [==============================] - 1s 6ms/step - loss: 0.4338 - accuracy: 0.7941\n",
            "Epoch 109/200\n",
            "177/177 [==============================] - 1s 6ms/step - loss: 0.4310 - accuracy: 0.7982\n",
            "Epoch 110/200\n",
            "177/177 [==============================] - 1s 6ms/step - loss: 0.4348 - accuracy: 0.7904\n",
            "Epoch 111/200\n",
            "177/177 [==============================] - 1s 6ms/step - loss: 0.4346 - accuracy: 0.7920\n",
            "Epoch 112/200\n",
            "177/177 [==============================] - 1s 6ms/step - loss: 0.4303 - accuracy: 0.7929\n",
            "Epoch 113/200\n",
            "177/177 [==============================] - 1s 6ms/step - loss: 0.4307 - accuracy: 0.7920\n",
            "Epoch 114/200\n",
            "177/177 [==============================] - 1s 6ms/step - loss: 0.4310 - accuracy: 0.7929\n",
            "Epoch 115/200\n",
            "177/177 [==============================] - 1s 6ms/step - loss: 0.4301 - accuracy: 0.7975\n",
            "Epoch 116/200\n",
            "177/177 [==============================] - 1s 6ms/step - loss: 0.4288 - accuracy: 0.7956\n",
            "Epoch 117/200\n",
            "177/177 [==============================] - 1s 6ms/step - loss: 0.4317 - accuracy: 0.7956\n",
            "Epoch 118/200\n",
            "177/177 [==============================] - 1s 6ms/step - loss: 0.4283 - accuracy: 0.7961\n",
            "Epoch 119/200\n",
            "177/177 [==============================] - 1s 6ms/step - loss: 0.4291 - accuracy: 0.7945\n",
            "Epoch 120/200\n",
            "177/177 [==============================] - 1s 6ms/step - loss: 0.4293 - accuracy: 0.7933\n",
            "Epoch 121/200\n",
            "177/177 [==============================] - 1s 6ms/step - loss: 0.4313 - accuracy: 0.7909\n",
            "Epoch 122/200\n",
            "177/177 [==============================] - 1s 6ms/step - loss: 0.4292 - accuracy: 0.7982\n",
            "Epoch 123/200\n",
            "177/177 [==============================] - 1s 6ms/step - loss: 0.4274 - accuracy: 0.7957\n",
            "Epoch 124/200\n",
            "177/177 [==============================] - 1s 6ms/step - loss: 0.4304 - accuracy: 0.7924\n",
            "Epoch 125/200\n",
            "177/177 [==============================] - 1s 6ms/step - loss: 0.4287 - accuracy: 0.7957\n",
            "Epoch 126/200\n",
            "177/177 [==============================] - 1s 6ms/step - loss: 0.4299 - accuracy: 0.7980\n",
            "Epoch 127/200\n",
            "177/177 [==============================] - 1s 6ms/step - loss: 0.4271 - accuracy: 0.7949\n",
            "Epoch 128/200\n",
            "177/177 [==============================] - 1s 6ms/step - loss: 0.4267 - accuracy: 0.7995\n",
            "Epoch 129/200\n",
            "177/177 [==============================] - 1s 6ms/step - loss: 0.4278 - accuracy: 0.7943\n",
            "Epoch 130/200\n",
            "177/177 [==============================] - 1s 6ms/step - loss: 0.4296 - accuracy: 0.7965\n",
            "Epoch 131/200\n",
            "177/177 [==============================] - 1s 6ms/step - loss: 0.4296 - accuracy: 0.7915\n",
            "Epoch 132/200\n",
            "177/177 [==============================] - 1s 6ms/step - loss: 0.4297 - accuracy: 0.7943\n",
            "Epoch 133/200\n",
            "177/177 [==============================] - 1s 6ms/step - loss: 0.4280 - accuracy: 0.7968\n",
            "Epoch 134/200\n",
            "177/177 [==============================] - 1s 6ms/step - loss: 0.4313 - accuracy: 0.7959\n",
            "Epoch 135/200\n",
            "177/177 [==============================] - 1s 6ms/step - loss: 0.4269 - accuracy: 0.7970\n",
            "Epoch 136/200\n",
            "177/177 [==============================] - 1s 6ms/step - loss: 0.4277 - accuracy: 0.7977\n",
            "Epoch 137/200\n",
            "177/177 [==============================] - 1s 6ms/step - loss: 0.4272 - accuracy: 0.7970\n",
            "Epoch 138/200\n",
            "177/177 [==============================] - 1s 6ms/step - loss: 0.4264 - accuracy: 0.7980\n",
            "Epoch 139/200\n",
            "177/177 [==============================] - 1s 6ms/step - loss: 0.4295 - accuracy: 0.7938\n",
            "Epoch 140/200\n",
            "177/177 [==============================] - 1s 6ms/step - loss: 0.4287 - accuracy: 0.7977\n",
            "Epoch 141/200\n",
            "177/177 [==============================] - 1s 6ms/step - loss: 0.4260 - accuracy: 0.7961\n",
            "Epoch 142/200\n",
            "177/177 [==============================] - 1s 6ms/step - loss: 0.4252 - accuracy: 0.7991\n",
            "Epoch 143/200\n",
            "177/177 [==============================] - 1s 6ms/step - loss: 0.4271 - accuracy: 0.7977\n",
            "Epoch 144/200\n",
            "177/177 [==============================] - 1s 6ms/step - loss: 0.4266 - accuracy: 0.7956\n",
            "Epoch 145/200\n",
            "177/177 [==============================] - 1s 6ms/step - loss: 0.4261 - accuracy: 0.7950\n",
            "Epoch 146/200\n",
            "177/177 [==============================] - 1s 6ms/step - loss: 0.4249 - accuracy: 0.7959\n",
            "Epoch 147/200\n",
            "177/177 [==============================] - 1s 6ms/step - loss: 0.4293 - accuracy: 0.7945\n",
            "Epoch 148/200\n",
            "177/177 [==============================] - 1s 6ms/step - loss: 0.4278 - accuracy: 0.7972\n",
            "Epoch 149/200\n",
            "177/177 [==============================] - 1s 6ms/step - loss: 0.4285 - accuracy: 0.7945\n",
            "Epoch 150/200\n",
            "177/177 [==============================] - 1s 6ms/step - loss: 0.4272 - accuracy: 0.7980\n",
            "Epoch 151/200\n",
            "177/177 [==============================] - 1s 8ms/step - loss: 0.4276 - accuracy: 0.7965\n",
            "Epoch 152/200\n",
            "177/177 [==============================] - 2s 9ms/step - loss: 0.4244 - accuracy: 0.7925\n",
            "Epoch 153/200\n",
            "177/177 [==============================] - 2s 9ms/step - loss: 0.4269 - accuracy: 0.7970\n",
            "Epoch 154/200\n",
            "177/177 [==============================] - 1s 7ms/step - loss: 0.4280 - accuracy: 0.7927\n",
            "Epoch 155/200\n",
            "177/177 [==============================] - 1s 6ms/step - loss: 0.4303 - accuracy: 0.7927\n",
            "Epoch 156/200\n",
            "177/177 [==============================] - 1s 6ms/step - loss: 0.4268 - accuracy: 0.7954\n",
            "Epoch 157/200\n",
            "177/177 [==============================] - 1s 6ms/step - loss: 0.4279 - accuracy: 0.7961\n",
            "Epoch 158/200\n",
            "177/177 [==============================] - 1s 6ms/step - loss: 0.4245 - accuracy: 0.7945\n",
            "Epoch 159/200\n",
            "177/177 [==============================] - 1s 6ms/step - loss: 0.4279 - accuracy: 0.7954\n",
            "Epoch 160/200\n",
            "177/177 [==============================] - 1s 6ms/step - loss: 0.4279 - accuracy: 0.7933\n",
            "Epoch 161/200\n",
            "177/177 [==============================] - 1s 6ms/step - loss: 0.4256 - accuracy: 0.8009\n",
            "Epoch 162/200\n",
            "177/177 [==============================] - 1s 6ms/step - loss: 0.4248 - accuracy: 0.8009\n",
            "Epoch 163/200\n",
            "177/177 [==============================] - 1s 6ms/step - loss: 0.4233 - accuracy: 0.7979\n",
            "Epoch 164/200\n",
            "177/177 [==============================] - 1s 6ms/step - loss: 0.4277 - accuracy: 0.7963\n",
            "Epoch 165/200\n",
            "177/177 [==============================] - 1s 6ms/step - loss: 0.4255 - accuracy: 0.8004\n",
            "Epoch 166/200\n",
            "177/177 [==============================] - 1s 6ms/step - loss: 0.4257 - accuracy: 0.7989\n",
            "Epoch 167/200\n",
            "177/177 [==============================] - 1s 6ms/step - loss: 0.4235 - accuracy: 0.7980\n",
            "Epoch 168/200\n",
            "177/177 [==============================] - 1s 6ms/step - loss: 0.4263 - accuracy: 0.8014\n",
            "Epoch 169/200\n",
            "177/177 [==============================] - 1s 6ms/step - loss: 0.4236 - accuracy: 0.7950\n",
            "Epoch 170/200\n",
            "177/177 [==============================] - 1s 6ms/step - loss: 0.4284 - accuracy: 0.7954\n",
            "Epoch 171/200\n",
            "177/177 [==============================] - 1s 6ms/step - loss: 0.4243 - accuracy: 0.7989\n",
            "Epoch 172/200\n",
            "177/177 [==============================] - 1s 6ms/step - loss: 0.4238 - accuracy: 0.7970\n",
            "Epoch 173/200\n",
            "177/177 [==============================] - 1s 6ms/step - loss: 0.4262 - accuracy: 0.7936\n",
            "Epoch 174/200\n",
            "177/177 [==============================] - 1s 6ms/step - loss: 0.4261 - accuracy: 0.7984\n",
            "Epoch 175/200\n",
            "177/177 [==============================] - 1s 6ms/step - loss: 0.4234 - accuracy: 0.7968\n",
            "Epoch 176/200\n",
            "177/177 [==============================] - 1s 6ms/step - loss: 0.4254 - accuracy: 0.7963\n",
            "Epoch 177/200\n",
            "177/177 [==============================] - 1s 6ms/step - loss: 0.4271 - accuracy: 0.7982\n",
            "Epoch 178/200\n",
            "177/177 [==============================] - 1s 6ms/step - loss: 0.4252 - accuracy: 0.7998\n",
            "Epoch 179/200\n",
            "177/177 [==============================] - 1s 6ms/step - loss: 0.4272 - accuracy: 0.7954\n",
            "Epoch 180/200\n",
            "177/177 [==============================] - 1s 6ms/step - loss: 0.4251 - accuracy: 0.7988\n",
            "Epoch 181/200\n",
            "177/177 [==============================] - 1s 6ms/step - loss: 0.4249 - accuracy: 0.7941\n",
            "Epoch 182/200\n",
            "177/177 [==============================] - 1s 6ms/step - loss: 0.4232 - accuracy: 0.7977\n",
            "Epoch 183/200\n",
            "177/177 [==============================] - 1s 6ms/step - loss: 0.4226 - accuracy: 0.7986\n",
            "Epoch 184/200\n",
            "177/177 [==============================] - 1s 6ms/step - loss: 0.4254 - accuracy: 0.7998\n",
            "Epoch 185/200\n",
            "177/177 [==============================] - 1s 6ms/step - loss: 0.4255 - accuracy: 0.7973\n",
            "Epoch 186/200\n",
            "177/177 [==============================] - 1s 6ms/step - loss: 0.4280 - accuracy: 0.7949\n",
            "Epoch 187/200\n",
            "177/177 [==============================] - 1s 6ms/step - loss: 0.4243 - accuracy: 0.7966\n",
            "Epoch 188/200\n",
            "177/177 [==============================] - 1s 6ms/step - loss: 0.4234 - accuracy: 0.7973\n",
            "Epoch 189/200\n",
            "177/177 [==============================] - 1s 6ms/step - loss: 0.4260 - accuracy: 0.7952\n",
            "Epoch 190/200\n",
            "177/177 [==============================] - 1s 6ms/step - loss: 0.4258 - accuracy: 0.7973\n",
            "Epoch 191/200\n",
            "177/177 [==============================] - 1s 6ms/step - loss: 0.4252 - accuracy: 0.7959\n",
            "Epoch 192/200\n",
            "177/177 [==============================] - 1s 6ms/step - loss: 0.4242 - accuracy: 0.7996\n",
            "Epoch 193/200\n",
            "177/177 [==============================] - 1s 6ms/step - loss: 0.4229 - accuracy: 0.7965\n",
            "Epoch 194/200\n",
            "177/177 [==============================] - 1s 6ms/step - loss: 0.4226 - accuracy: 0.8030\n",
            "Epoch 195/200\n",
            "177/177 [==============================] - 1s 6ms/step - loss: 0.4270 - accuracy: 0.7959\n",
            "Epoch 196/200\n",
            "177/177 [==============================] - 1s 6ms/step - loss: 0.4230 - accuracy: 0.8011\n",
            "Epoch 197/200\n",
            "177/177 [==============================] - 1s 6ms/step - loss: 0.4243 - accuracy: 0.7982\n",
            "Epoch 198/200\n",
            "177/177 [==============================] - 1s 6ms/step - loss: 0.4237 - accuracy: 0.8014\n",
            "Epoch 199/200\n",
            "177/177 [==============================] - 1s 6ms/step - loss: 0.4234 - accuracy: 0.7995\n",
            "Epoch 200/200\n",
            "177/177 [==============================] - 1s 6ms/step - loss: 0.4261 - accuracy: 0.7941\n"
          ]
        },
        {
          "output_type": "execute_result",
          "data": {
            "text/plain": [
              "<keras.callbacks.History at 0x7fce53992340>"
            ]
          },
          "metadata": {},
          "execution_count": 32
        }
      ],
      "source": [
        "model.fit(X_train, y_train, epochs=200, batch_size=32)"
      ]
    },
    {
      "cell_type": "code",
      "execution_count": 33,
      "metadata": {
        "colab": {
          "base_uri": "https://localhost:8080/"
        },
        "id": "3QKGoDiazqIa",
        "outputId": "81a22e02-93a4-4ee0-cef6-e7f84fa8bdd1"
      },
      "outputs": [
        {
          "output_type": "stream",
          "name": "stdout",
          "text": [
            "45/45 [==============================] - 0s 4ms/step\n"
          ]
        }
      ],
      "source": [
        "y_hat = model.predict(X_test)\n",
        "y_hat = [0 if val < 0.5 else 1 for val in y_hat]"
      ]
    },
    {
      "cell_type": "code",
      "execution_count": 34,
      "metadata": {
        "colab": {
          "base_uri": "https://localhost:8080/"
        },
        "id": "jfKqOkgEzqIa",
        "outputId": "086e2bb1-52b0-4c80-e0d6-f36e4356371c"
      },
      "outputs": [
        {
          "output_type": "execute_result",
          "data": {
            "text/plain": [
              "0.8105039034776437"
            ]
          },
          "metadata": {},
          "execution_count": 34
        }
      ],
      "source": [
        "accuracy_score(y_test, y_hat)"
      ]
    },
    {
      "cell_type": "markdown",
      "metadata": {
        "id": "fT72-wI8zqIa"
      },
      "source": [
        "# 4. Saving and Reloading"
      ]
    },
    {
      "cell_type": "code",
      "execution_count": 35,
      "metadata": {
        "collapsed": true,
        "id": "Q2YB1V0czqIa"
      },
      "outputs": [],
      "source": [
        "model.save('tfmodel')"
      ]
    },
    {
      "cell_type": "code",
      "execution_count": 36,
      "metadata": {
        "id": "fIEFeV-4zqIb"
      },
      "outputs": [],
      "source": [
        "del model "
      ]
    },
    {
      "cell_type": "code",
      "execution_count": 37,
      "metadata": {
        "id": "uiNi43LizqIb"
      },
      "outputs": [],
      "source": [
        "model = load_model('tfmodel')"
      ]
    }
  ],
  "metadata": {
    "kernelspec": {
      "display_name": "Python 3",
      "language": "python",
      "name": "python3"
    },
    "language_info": {
      "codemirror_mode": {
        "name": "ipython",
        "version": 3
      },
      "file_extension": ".py",
      "mimetype": "text/x-python",
      "name": "python",
      "nbconvert_exporter": "python",
      "pygments_lexer": "ipython3",
      "version": "3.7.4"
    },
    "colab": {
      "provenance": [],
      "include_colab_link": true
    }
  },
  "nbformat": 4,
  "nbformat_minor": 0
}